{
 "cells": [
  {
   "attachments": {},
   "cell_type": "markdown",
   "metadata": {},
   "source": [
    "# Constant: Output equal 0. "
   ]
  },
  {
   "attachments": {},
   "cell_type": "markdown",
   "metadata": {},
   "source": [
    "Create the quantum Circuit. "
   ]
  },
  {
   "cell_type": "code",
   "execution_count": 1,
   "metadata": {},
   "outputs": [
    {
     "data": {
      "image/png": "[encoded data removed]",
      "text/plain": [
       "<Figure size 705.35x284.278 with 1 Axes>"
      ]
     },
     "execution_count": 1,
     "metadata": {},
     "output_type": "execute_result"
    }
   ],
   "source": [
    "from qiskit import QuantumCircuit, QuantumRegister, ClassicalRegister\n",
    "\n",
    "qrx = QuantumRegister(1, 'q0')\n",
    "qry = QuantumRegister(1, 'q1')\n",
    "cr = ClassicalRegister(1, 'c')\n",
    "\n",
    "qc = QuantumCircuit(qrx, qry, cr)\n",
    "qc.h(qrx)\n",
    "qc.x(qry)\n",
    "qc.h(qry)\n",
    "qc.barrier()\n",
    "qc.i(qry)\n",
    "qc.barrier()\n",
    "qc.h(qrx)\n",
    "qc.h(qry)\n",
    "qc.measure(qrx, cr)\n",
    "qc.draw(\"mpl\")"
   ]
  },
  {
   "attachments": {},
   "cell_type": "markdown",
   "metadata": {},
   "source": [
    "Proof through histogram."
   ]
  },
  {
   "cell_type": "code",
   "execution_count": null,
   "metadata": {},
   "outputs": [],
   "source": [
    "from qiskit import execute\n",
    "from qiskit.providers.aer import AerSimulator\n",
    "from qiskit.visualization import plot_histogram\n",
    "\n",
    "sim = AerSimulator()\n",
    "job = execute(qc, backend = sim, shots = 1000)\n",
    "result = job.result()\n",
    "counts = result.get_counts(qc)\n",
    "print(\"Counts: \", counts)\n",
    "plot_histogram(counts)"
   ]
  },
  {
   "attachments": {},
   "cell_type": "markdown",
   "metadata": {},
   "source": [
    "Also in Quantum Computer."
   ]
  },
  {
   "cell_type": "code",
   "execution_count": null,
   "metadata": {},
   "outputs": [],
   "source": [
    "from qiskit import QuantumCircuit, IBMQ, execute \n",
    "from qiskit.tools.monitor import job_monitor\n",
    "from qiskit.visualization import plot_histogram\n",
    "\n",
    "IBMQ.save_account('your_token')\n",
    "IBMQ.load_account()\n",
    "IBMQ.providers()\n",
    "provider = IBMQ.get_provider(hub='ibm-q', group='open', project='main')\n",
    "qcomp = provider.get_backend('ibmq_manila')\n",
    "job = execute(qc, backend = qcomp, shots = 1000)\n",
    "job_monitor(job)\n",
    "result = job.result()\n",
    "counts = result.get_counts(qc)\n",
    "print(\"Total counts for qubit states are:\", counts)\n",
    "plot_histogram(counts)"
   ]
  }
 ],
 "metadata": {
  "kernelspec": {
   "display_name": "venv",
   "language": "python",
   "name": "python3"
  },
  "language_info": {
   "codemirror_mode": {
    "name": "ipython",
    "version": 3
   },
   "file_extension": ".py",
   "mimetype": "text/x-python",
   "name": "python",
   "nbconvert_exporter": "python",
   "pygments_lexer": "ipython3",
   "version": "3.9.6"
  },
  "orig_nbformat": 4
 },
 "nbformat": 4,
 "nbformat_minor": 2
}
