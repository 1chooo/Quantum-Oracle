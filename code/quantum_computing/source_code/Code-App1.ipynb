{
 "cells": [
  {
   "cell_type": "markdown",
   "metadata": {
    "id": "vNeOcKe8ZC0R"
   },
   "source": [
    "# 附錄1原始程式碼"
   ]
  },
  {
   "cell_type": "code",
   "execution_count": 1,
   "metadata": {
    "colab": {
     "base_uri": "https://localhost:8080/"
    },
    "id": "icqQHXUJMlg5",
    "outputId": "9b2ec2d9-72d0-45ed-dfc3-bd0893986cfc"
   },
   "outputs": [
    {
     "name": "stdout",
     "output_type": "stream",
     "text": [
      "The name of the language is Python\n",
      "The radius of the circle is 3 \n",
      "Its area is 28.27431\n"
     ]
    }
   ],
   "source": [
    "#Below are examples of using print function\n",
    "print('The name of the language is',\"Python\")\n",
    "print(\"The radius of the circle is\", 3, '\\nIts area is', 3.14159*3**2)"
   ]
  },
  {
   "cell_type": "code",
   "execution_count": 2,
   "metadata": {
    "colab": {
     "base_uri": "https://localhost:8080/"
    },
    "id": "Ah3hHLG817nR",
    "outputId": "7aa53077-9946-45ae-b0d5-175a0800247d"
   },
   "outputs": [
    {
     "name": "stdout",
     "output_type": "stream",
     "text": [
      "The name of the language is Python. Its version is....3.x\n",
      "The radius of the circle is 3\n",
      "The area of the circle is 28.27431\n"
     ]
    }
   ],
   "source": [
    "#Below are examples of using print function\n",
    "print('The name of the language is',\"Python\",end=\". \")\n",
    "print('Its version is',\"3.x\",sep=\"....\")\n",
    "print(\"The radius of the circle is\", 3)\n",
    "print(\"The area of the circle is\", 3.14159*3**2)"
   ]
  },
  {
   "cell_type": "code",
   "execution_count": 3,
   "metadata": {},
   "outputs": [
    {
     "name": "stdout",
     "output_type": "stream",
     "text": [
      "Please enter the radius of the circle:3\n",
      "The radius of the circle: 3\n"
     ]
    }
   ],
   "source": [
    "r=input('Please enter the radius of the circle:')\n",
    "print('The radius of the circle:', r) "
   ]
  },
  {
   "cell_type": "code",
   "execution_count": 4,
   "metadata": {},
   "outputs": [
    {
     "name": "stdout",
     "output_type": "stream",
     "text": [
      "Please enter the radius of the circle:3\n",
      "The radius of the circle: 3\n",
      "The area of the circle: 28.27431\n"
     ]
    }
   ],
   "source": [
    "r=input('Please enter the radius of the circle:')\n",
    "ri=int(r)\n",
    "rf=float(r)\n",
    "print('The radius of the circle:', ri) \n",
    "print(\"The area of the circle:\", 3.14159*rf**2)"
   ]
  },
  {
   "cell_type": "code",
   "execution_count": 5,
   "metadata": {
    "colab": {
     "base_uri": "https://localhost:8080/",
     "height": 236
    },
    "id": "xCGvppZDKBed",
    "outputId": "8c0eb26f-6628-4277-ad30-d7cd4225f8db"
   },
   "outputs": [
    {
     "name": "stdout",
     "output_type": "stream",
     "text": [
      "<class 'int'> <class 'float'> <class 'bool'> <class 'complex'> <class 'str'> <class 'list'> <class 'tuple'> <class 'set'> <class 'dict'>\n"
     ]
    }
   ],
   "source": [
    "a=123;b=123.456;c=False;d=123+456j;e=\"123\";f=[1,2,3];g=(1,2,3);h={1,2,3};i={1:'x',2:'y',3:'z'}\n",
    "print(type(a),type(b),type(c),type(d),type(e),type(f),type(g),type(h),type(i))"
   ]
  },
  {
   "cell_type": "code",
   "execution_count": 6,
   "metadata": {},
   "outputs": [
    {
     "name": "stdout",
     "output_type": "stream",
     "text": [
      "11\n",
      "-5\n",
      "24\n",
      "0.375\n",
      "0\n",
      "3\n",
      "6561\n",
      "3\n",
      "0\n"
     ]
    }
   ],
   "source": [
    "a=3;b=8\n",
    "print(a+b)  #11\n",
    "print(a-b)  #-5\n",
    "print(a*b)  #24\n",
    "print(a/b)  #0.375\n",
    "print(a//b) #0\n",
    "print(a%b)  #3\n",
    "print(a**b) #6561\n",
    "print(a+b//a**b)    #3\n",
    "print((a+b)//a**b)  #0\n"
   ]
  },
  {
   "cell_type": "code",
   "execution_count": 7,
   "metadata": {},
   "outputs": [
    {
     "name": "stdout",
     "output_type": "stream",
     "text": [
      "11.0\n",
      "-5.0\n",
      "24.0\n",
      "0.375\n",
      "0.0\n",
      "3.0\n",
      "6561.0\n",
      "11.0\n",
      "3.0\n",
      "0.0\n"
     ]
    }
   ],
   "source": [
    "a=3.0;b=8.0;c=8\n",
    "print(a+b)  #11.0\n",
    "print(a-b)  #-5.0\n",
    "print(a*b)  #24.0\n",
    "print(a/b)  #0.375\n",
    "print(a//b) #0.0\n",
    "print(a%b)  #3.0\n",
    "print(a**b) #6561.0\n",
    "print(a+c)  #11.0\n",
    "print(a+b//a**b)    #3.0\n",
    "print((a+b)//a**b)  #0.0"
   ]
  },
  {
   "cell_type": "code",
   "execution_count": 8,
   "metadata": {},
   "outputs": [
    {
     "name": "stdout",
     "output_type": "stream",
     "text": [
      "False\n",
      "True\n",
      "False\n",
      "True\n",
      "False\n",
      "True\n",
      "True\n",
      "False\n",
      "True\n",
      "False\n"
     ]
    }
   ],
   "source": [
    "a=3.0;b=8.0;c=8\n",
    "print(a==b)  #False\n",
    "print(a!=b)  #True\n",
    "print(a>b)   #False\n",
    "print(a<b)   #True\n",
    "print(a>=b)  #False\n",
    "print(a<=b)  #True\n",
    "print(not (a==b)) #True\n",
    "print(a==b or a!=b and a>b)       #False\n",
    "print(a==b and a>b or a!=b)       #True\n",
    "print(a==b and a>b or not (a!=b)) #False"
   ]
  },
  {
   "cell_type": "code",
   "execution_count": 9,
   "metadata": {},
   "outputs": [
    {
     "name": "stdout",
     "output_type": "stream",
     "text": [
      "(5-4j)\n",
      "(-1+12j)\n",
      "(38-4j)\n",
      "(-0.3561643835616438+0.3835616438356164j)\n",
      "(0.7+2.6j)\n",
      "(-0.3-1.4j)\n",
      "2.0\n",
      "4.0\n",
      "(2-4j)\n",
      "4.47213595499958\n"
     ]
    }
   ],
   "source": [
    "a=2+4j;b=3-8j\n",
    "print(a+b)  #(5-4j)\n",
    "print(a-b)  #(-1+12j)\n",
    "print(a*b)  #(38-4j)\n",
    "print(a/b)  #(-0.3561643835616438+0.3835616438356164j)\n",
    "print(a+b/a)    #(0.7+2.6j)\n",
    "print((a+b)/a)  #(-0.3-1.4j)\n",
    "print(a.real)   #2.0\n",
    "print(a.imag)   #4.0\n",
    "print(a.conjugate()) #(2-4j)\n",
    "print(abs(a))   #4.47213595499958"
   ]
  },
  {
   "cell_type": "code",
   "execution_count": 10,
   "metadata": {},
   "outputs": [
    {
     "name": "stdout",
     "output_type": "stream",
     "text": [
      "{1, 2, 3, 4, 6}\n",
      "{1, 2, 3, 4, 6}\n",
      "{2}\n",
      "{2}\n",
      "{1, 3}\n",
      "{1, 3}\n",
      "{1, 3, 4, 6}\n",
      "{1, 3, 4, 6}\n"
     ]
    }
   ],
   "source": [
    "a={1,2,3};b={2,4,6}\n",
    "print(a|b)         #{1, 2, 3, 4, 6}\n",
    "print(a.union(b))  #{1, 2, 3, 4, 6}\n",
    "print(a&b)               #{2}\n",
    "print(a.intersection(b)) #{2}\n",
    "print(a-b)               #{1,3}\n",
    "print(a.difference(b))   #{1,3}\n",
    "print(a^b)                        #{1,3,4,6}\n",
    "print(a.symmetric_difference(b))  #{1,3,4,6}"
   ]
  },
  {
   "cell_type": "code",
   "execution_count": 11,
   "metadata": {},
   "outputs": [
    {
     "name": "stdout",
     "output_type": "stream",
     "text": [
      "1 2 3 integer float complex tuple\n",
      "100\n",
      "7\n",
      "4\n",
      "None\n",
      "False\n",
      "True\n",
      "dict_keys(['a', 'b', 'c', 1, 2.3, (4+5j), (6, 7)])\n",
      "dict_values([100, 2, 3, 'integer', 'float', 'complex', 'tuple'])\n"
     ]
    }
   ],
   "source": [
    "ex = {\"a\":1, \"b\":2, \"c\":3, 1: \"integer\", 2.3: \"float\", 4+5j: \"complex\", (6,7): \"tuple\"}\n",
    "print(ex[\"a\"],ex[\"b\"],ex[\"c\"],ex[1],ex[2.3],ex[4+5j],ex[(6,7)])\n",
    "ex[\"a\"]=100\n",
    "print(ex[\"a\"])\n",
    "print(len(ex))\n",
    "ex[\"d\"]=4\n",
    "print(ex.get(\"d\"))\n",
    "del ex[\"d\"]\n",
    "print(ex.get(\"d\"))\n",
    "print(\"e\" in ex)\n",
    "print(\"e\" not in ex)\n",
    "print(ex.keys())\n",
    "print(ex.values())"
   ]
  },
  {
   "cell_type": "code",
   "execution_count": 12,
   "metadata": {},
   "outputs": [
    {
     "name": "stdout",
     "output_type": "stream",
     "text": [
      "0.2962962962962962\n"
     ]
    }
   ],
   "source": [
    "a=5\n",
    "a+=3  #a=a+3  (a=8)\n",
    "a-=3  #a=a-3  (a=5)\n",
    "a*=3  #a=a*3  (a=15)\n",
    "a%=8  #a=a%8  (a=7)\n",
    "a//=3 #a=a//3 (a=2)\n",
    "a/=3  #a=a/3  (a=0.6666666666666666)\n",
    "a**=3 #a=a**3 (a=0.2962962962962962)\n",
    "print(a)"
   ]
  },
  {
   "cell_type": "code",
   "execution_count": 13,
   "metadata": {},
   "outputs": [
    {
     "name": "stdout",
     "output_type": "stream",
     "text": [
      "PASS\n"
     ]
    }
   ],
   "source": [
    "score=90\n",
    "if score >=60:\n",
    "  print(\"PASS\")"
   ]
  },
  {
   "cell_type": "code",
   "execution_count": 14,
   "metadata": {},
   "outputs": [
    {
     "name": "stdout",
     "output_type": "stream",
     "text": [
      "PASS\n"
     ]
    }
   ],
   "source": [
    "score=90\n",
    "if score >=60:\n",
    "  print(\"PASS\")\n",
    "else:\n",
    "  print(\"FAIL\")"
   ]
  },
  {
   "cell_type": "code",
   "execution_count": 15,
   "metadata": {},
   "outputs": [
    {
     "name": "stdout",
     "output_type": "stream",
     "text": [
      "A\n"
     ]
    }
   ],
   "source": [
    "score=90\n",
    "if score >=90:\n",
    "  print(\"A\")\n",
    "elif score >= 80:\n",
    "  print(\"B\")\n",
    "elif score >= 70:\n",
    "  print(\"C\")\n",
    "elif score >= 60:\n",
    "  print(\"D\")\n",
    "else:\n",
    "  print(\"F\")"
   ]
  },
  {
   "cell_type": "code",
   "execution_count": 16,
   "metadata": {},
   "outputs": [
    {
     "name": "stdout",
     "output_type": "stream",
     "text": [
      "12345"
     ]
    }
   ],
   "source": [
    "i=0\n",
    "while i<5:\n",
    "  i+=1  \n",
    "  print(i,end=\"\") "
   ]
  },
  {
   "cell_type": "code",
   "execution_count": 17,
   "metadata": {},
   "outputs": [
    {
     "name": "stdout",
     "output_type": "stream",
     "text": [
      "12345#\n"
     ]
    }
   ],
   "source": [
    "i=0\n",
    "while i<5:\n",
    "  i+=1  \n",
    "  print(i,end=\"\")\n",
    "else:\n",
    "  print(\"#\")"
   ]
  },
  {
   "cell_type": "code",
   "execution_count": 18,
   "metadata": {},
   "outputs": [
    {
     "name": "stdout",
     "output_type": "stream",
     "text": [
      "12345"
     ]
    }
   ],
   "source": [
    "for i in [1,2,3,4,5]:\n",
    "  print(i,end=\"\")"
   ]
  },
  {
   "cell_type": "code",
   "execution_count": 19,
   "metadata": {},
   "outputs": [
    {
     "name": "stdout",
     "output_type": "stream",
     "text": [
      "12345#\n"
     ]
    }
   ],
   "source": [
    "for i in [1,2,3,4,5]:\n",
    "  print(i,end=\"\")\n",
    "else:\n",
    "  print(\"#\")"
   ]
  },
  {
   "cell_type": "code",
   "execution_count": 20,
   "metadata": {},
   "outputs": [
    {
     "name": "stdout",
     "output_type": "stream",
     "text": [
      "[0, 1, 2, 3, 4]\n",
      "[2, 3, 4]\n",
      "[0, 2, 4]\n",
      "[5, 4, 3, 2, 1]\n",
      "[]\n"
     ]
    }
   ],
   "source": [
    "print(list(range(5)))       #range(5)會回傳0、1、2、3、4\n",
    "print(list(range(2,5)))     #range(2,5)會回傳2、3、4\n",
    "print(list(range(0,5,2)))   #range(0,2,5)會回傳0、2、4\n",
    "print(list(range(5,0,-1)))  #range(5,0,-1)會回傳5、4、3、2、1\n",
    "print(list(range(5,0)))     #range(5,0)是一個空序列"
   ]
  },
  {
   "cell_type": "code",
   "execution_count": 21,
   "metadata": {},
   "outputs": [
    {
     "name": "stdout",
     "output_type": "stream",
     "text": [
      "12"
     ]
    }
   ],
   "source": [
    "i=0\n",
    "while i<5:\n",
    "  i+=1  \n",
    "  if i==3:\n",
    "    break\n",
    "  print(i,end=\"\")"
   ]
  },
  {
   "cell_type": "code",
   "execution_count": 22,
   "metadata": {},
   "outputs": [
    {
     "name": "stdout",
     "output_type": "stream",
     "text": [
      "12"
     ]
    }
   ],
   "source": [
    "for i in range(1,6):\n",
    "  if i==3:\n",
    "    break\n",
    "  print(i,end=\"\")"
   ]
  },
  {
   "cell_type": "code",
   "execution_count": 23,
   "metadata": {},
   "outputs": [
    {
     "name": "stdout",
     "output_type": "stream",
     "text": [
      "1245"
     ]
    }
   ],
   "source": [
    "i=0\n",
    "while i<5:\n",
    "  i+=1  \n",
    "  if i==3:\n",
    "    continue\n",
    "  print(i,end=\"\")"
   ]
  },
  {
   "cell_type": "code",
   "execution_count": 24,
   "metadata": {},
   "outputs": [
    {
     "name": "stdout",
     "output_type": "stream",
     "text": [
      "1245"
     ]
    }
   ],
   "source": [
    "for i in range(1,6):\n",
    "  if i==3:\n",
    "    continue\n",
    "  print(i,end=\"\")"
   ]
  },
  {
   "cell_type": "code",
   "execution_count": 25,
   "metadata": {},
   "outputs": [
    {
     "name": "stdout",
     "output_type": "stream",
     "text": [
      "True\n",
      "False\n"
     ]
    }
   ],
   "source": [
    "def odd_check(n):\n",
    "  \"\"\"Check if n is odd (return True) or not (return False).\"\"\"\n",
    "  if n%2==0:\n",
    "    return False\n",
    "  else:\n",
    "    return True\n",
    "print(odd_check(5))\n",
    "print(odd_check(10))"
   ]
  },
  {
   "cell_type": "code",
   "execution_count": 26,
   "metadata": {},
   "outputs": [
    {
     "name": "stdout",
     "output_type": "stream",
     "text": [
      "(1, 2, 3, 4)\n",
      "(1, 2, 3, 'abc')\n",
      "(1, 2, 123, 'edf')\n",
      "(1, 2, 123, 'abc')\n"
     ]
    }
   ],
   "source": [
    "def test(aa,bb,cc=123,dd='abc'):\n",
    "  return aa,bb,cc,dd\n",
    "print(test(1,2,3,4))\n",
    "print(test(1,2,3))\n",
    "print(test(1,2,dd='edf'))\n",
    "print(test(1,2))"
   ]
  },
  {
   "cell_type": "code",
   "execution_count": 27,
   "metadata": {},
   "outputs": [
    {
     "name": "stdout",
     "output_type": "stream",
     "text": [
      "15\n"
     ]
    }
   ],
   "source": [
    "def adding(*num):\n",
    "  sum=0\n",
    "  for n in num:\n",
    "    sum+=n\n",
    "  return sum\n",
    "print(adding(1,2,3,4,5))"
   ]
  },
  {
   "cell_type": "code",
   "execution_count": 28,
   "metadata": {},
   "outputs": [
    {
     "name": "stdout",
     "output_type": "stream",
     "text": [
      "11\n",
      "11\n",
      "[9, 11, 13, 15, 17]\n"
     ]
    }
   ],
   "source": [
    "adding = lambda x,y: x+y \n",
    "print(adding(3,8))             #顯示11\n",
    "print((lambda x,y: x+y)(3,8))  #顯示11\n",
    "lista=[1,3,5,7,9]\n",
    "#以下將lambda函數當作map函數的參數\n",
    "listb=list(map(lambda x:x+8, lista)) \n",
    "print(listb)"
   ]
  },
  {
   "cell_type": "code",
   "execution_count": 29,
   "metadata": {},
   "outputs": [
    {
     "name": "stdout",
     "output_type": "stream",
     "text": [
      "rect1: 3 8 24 22\n",
      "rect2: 2 4 8 12\n"
     ]
    }
   ],
   "source": [
    "class Rectangle:\n",
    "  length=0\n",
    "  width=0\n",
    "  def __init__(self,length,width):\n",
    "    self.length=length\n",
    "    self.width=width\n",
    "  def area(self):\n",
    "    return self.length*self.width\n",
    "  def perimeter(self):\n",
    "    return 2*(self.length+self.width)\n",
    "rect1=Rectangle(3,8)\n",
    "rect2=Rectangle(2,4)\n",
    "print('rect1:',rect1.length,rect1.width,rect1.area(),rect1.perimeter())\n",
    "print('rect2:',rect2.length,rect2.width,rect2.area(),rect2.perimeter())"
   ]
  },
  {
   "cell_type": "code",
   "execution_count": 30,
   "metadata": {},
   "outputs": [
    {
     "name": "stdout",
     "output_type": "stream",
     "text": [
      "rect1: 3 8 24 22\n",
      "rect2: 2 4 8 12\n",
      "rectangle1\n",
      "rectangle2\n"
     ]
    }
   ],
   "source": [
    "class NamedRectangle(Rectangle):\n",
    "  name=''\n",
    "  def __init__(self,length,width,name):\n",
    "    super().__init__(length,width)\n",
    "    self.name=name\n",
    "  def show_name(self):\n",
    "    print(self.name)\n",
    "rect1=NamedRectangle(3,8,'rectangle1')\n",
    "rect2=NamedRectangle(2,4,'rectangle2')\n",
    "print('rect1:',rect1.length,rect1.width,rect1.area(),rect1.perimeter())\n",
    "print('rect2:',rect2.length,rect2.width,rect2.area(),rect2.perimeter())\n",
    "rect1.show_name()\n",
    "rect2.show_name()"
   ]
  }
 ],
 "metadata": {
  "colab": {
   "collapsed_sections": [
    "9hCPccXDgXS5",
    "yY82PcxPsaMS",
    "moujoT2KgkAj",
    "ERqOJy2zhggB",
    "rCCBfABChsqX",
    "QvgrgpgBh34a",
    "IDeHZJawiAkQ",
    "z3Ul6IDOohcf",
    "nC6SNzzDohch",
    "Y5zBsiHVohci",
    "2DxIfbVjohcj",
    "QPzQdnUNohcj",
    "0PlKdTjkJX8Q",
    "I5CMA2JKmuaS",
    "CvZlUoygvW_x",
    "YxVzwIsx24__"
   ],
   "name": "量子程式設計.ipynb",
   "provenance": []
  },
  "kernelspec": {
   "display_name": "Python 3",
   "language": "python",
   "name": "python3"
  },
  "language_info": {
   "codemirror_mode": {
    "name": "ipython",
    "version": 3
   },
   "file_extension": ".py",
   "mimetype": "text/x-python",
   "name": "python",
   "nbconvert_exporter": "python",
   "pygments_lexer": "ipython3",
   "version": "3.10.1 (v3.10.1:2cd268a3a9, Dec  6 2021, 14:28:59) [Clang 13.0.0 (clang-1300.0.29.3)]"
  },
  "vscode": {
   "interpreter": {
    "hash": "aee8b7b246df8f9039afb4144a1f6fd8d2ca17a180786b69acc140d282b71a49"
   }
  },
  "widgets": {
   "application/vnd.jupyter.widget-state+json": {
    "state": {},
    "version_major": 2,
    "version_minor": 0
   }
  }
 },
 "nbformat": 4,
 "nbformat_minor": 4
}
